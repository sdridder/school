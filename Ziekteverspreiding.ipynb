{
 "cells": [
  {
   "cell_type": "markdown",
   "metadata": {},
   "source": [
    "# Wiskunde aan het werk: een simulatie-gebaseerde aanpak"
   ]
  },
  {
   "cell_type": "markdown",
   "metadata": {},
   "source": [
    "### Ziekteverspreiding\n",
    "\n",
    "Bij de **uitbraak van een besmettelijke ziekte** is het voor een optimale inzet van middelen en mensen vaak **cruciaal om inzicht te hebben in hoe deze ziekte zich** de volgende dagen en weken mogelijk **zal verspreiden.**   \n",
    "Bovendien wenst men voor het instellen van maatregelen ter voorkoming van een verdere verspreiding vaak op voorhand een beeld te krijgen van hoe deze het verloop van de ziekte mogelijk zullen beïnvloeden.    \n",
    "Op die manier kunnen de meest efficiënte en goedkoopste maatregelen eerst doorgevoerd worden. \n",
    "\n",
    "Om een antwoord te formuleren op deze en gelijkaardige vragen, wordt in vele gevallen een beroep gedaan op zogenaamde **ziekteverspreidingsmodellen.** Dergelijke modellen zijn gebaseerd op **wiskundige vergelijkingen die beschrijven hoe een besmettelijke ziekte zich doorheen de tijd en/of ruimte verspreidt** en kunnen helpen om bijvoorbeeld het te verwachten effect van vaccinatie of het nut van quarantainemaatregelen in te schatten.    \n",
    "Vermits het verloop doorheen de tijd  cruciaal is in het geval van ziekteverspreiding, zijn nagenoeg alle ziekteverspreidingsmodellen dynamisch van aard, maar verder werden sinds de ontwikkeling van de eerste ziekteverspreidingsmodellen in de eerste helft van vorige eeuw zowat alle mogelijke modeltypes aangewend voor het beschrijven van de dynamiek van besmettelijke ziekten. "
   ]
  },
  {
   "cell_type": "markdown",
   "metadata": {},
   "source": [
    "Inladen nodige pakketten"
   ]
  },
  {
   "cell_type": "code",
   "execution_count": null,
   "metadata": {
    "ExecuteTime": {
     "end_time": "2017-10-11T13:29:49.637642Z",
     "start_time": "2017-10-11T13:29:48.278564Z"
    },
    "collapsed": true
   },
   "outputs": [],
   "source": [
    "import scipy.integrate as spi\n",
    "import numpy as np\n",
    "import pylab as pl\n",
    "import matplotlib.pyplot as plt\n",
    "%matplotlib inline"
   ]
  },
  {
   "cell_type": "markdown",
   "metadata": {},
   "source": [
    "## SIR-model\n",
    "\n",
    "In een poging een verklaring te vinden voor de snelle toename en afname van het aantal besmette personen bij de verspreiding van cholera en de Zwarte Dood,    \n",
    "ontwikkelden W. O. Kermack en A. G. McKendrick een [ziekteverspreidingsmodel](http://mathworld.wolfram.com/Kermack-McKendrickModel.html)   \n",
    "dat tot op de dag van vandaag **nog steeds de basis vormt van vele meer geavanceerde modellen**. \n",
    "\n",
    "De volgende vereenvoudigende veronderstellingen liggen aan de basis van dit model:\n",
    "* vaste **populatiegrootte $N$;**\n",
    "* afwezigheid van een incubatieperiode;\n",
    "* besmettingsduur is even lang als de duur van de ziekte;\n",
    "* homogene populatie zonder sociale, ruimtelijke of leeftijdstructuur.\n",
    "\n",
    "Niettegenstaande het bestaan van verschillende ziekteverspreidingsmechanismen, is de verspreiding van een besmettelijke ziekte pas mogelijk na (in)direct contact tussen een geïnfecteerd persoon en een nog vatbaar individu.    \n",
    "Bovendien zijn er bij de meeste besmettelijke ziekten slechts twee scenario's mogelijk nadat een persoon werd besmet.    \n",
    "Of het besmette individu herstelt na verloop van tijd en wordt mogelijk opnieuw vatbaar of de besmetting leidt finaal tot de dood. **Figuur 1** illustreert de overgang tussen de opeenvolgende stadia in het geval van herstel na besmetting."
   ]
  },
  {
   "cell_type": "markdown",
   "metadata": {},
   "source": [
    "<img src=\"SIRScheme0.png\" width=\"400\">   \n",
    "\n",
    "\n",
    "<center>**Figuur 1**: Schematische weergave van de overgang tussen de opeenvolgende ziektestadia.</center>\n",
    "\n",
    "Indien we **het aantal vatbare (susceptible), geïnfecteerde (infected) en herstelde (recovered) individuen op tijdstip $t$** noteren als respectievelijk **$S(t)$, $I(t)$ en $R(t)$**, dient ons model met andere woorden in staat te zijn om de veranderingen in deze aantallen doorheen de tijd te beschrijven.    \n",
    "*Door onze aanname dat de grootte van de populatie niet wijzigt doorheen de tijd, is het eveneens mogelijk om deze aantallen relatief ten op zichte van de populatiegrootte $N$ uit te drukken.*   \n",
    "\n",
    "\n",
    "Derhalve zal ons model drie afhankelijke veranderlijken omvatten, zijnde\n",
    "* **$S(t)$**: het relatief aantal vatbare individuen op tijdstip $t$;\n",
    "* **$I(t)$**: het relatief aantal ge\\\"infecteerde individuen op tijdstip $t$;\n",
    "* **$R(t)$**: het relatief aantal herstelde individuen op tijdstip $t$;   \n",
    "\n",
    "en een onafhankelijke veranderlijke, namelijk de tijd $t$. *Indien er geen verwarring mogelijk is, laten we voor de eenvoud de expliciete verwijzing naar $t$ weg bij het schrijven van de afhankelijke veranderlijken. *"
   ]
  },
  {
   "cell_type": "markdown",
   "metadata": {},
   "source": [
    "### De modelvergelijkingen\n",
    "Om een vergelijking te bekomen die de verandering van de fractie vatbare individuen gedurende een tijdsinterval $\\Delta t$ reflecteert, dienen we in acht te nemen dat overdracht van een besmettelijke ziekte (in)direct contact vereist tussen vatbare en geïnfecteerde individuen en dat niet per se elk contact tot een effectieve overdracht leidt.    \n",
    "Indien een besmet individu $\\beta^{-1}$ $[\\text{T}^{-1}]$ contacten per $\\Delta t$ dient te hebben om de overdracht van de ziekte mogelijk te maken dan wordt **het aantal individuen dat per $\\Delta t$ wordt besmet gegeven door:**   \n",
    "\n",
    "\n",
    "$$\n",
    "\\beta\\,S\\,I\n",
    "$$\n",
    "aangezien slechts een fractie $\\beta\\,S$ van het totaal aantal contacten zal plaatsvinden met nog vatbare individuen.    \n",
    "\n",
    "\n",
    "De **verandering van het relatief aantal vatbare individuen** gedurende $\\Delta t$ wordt bijgevolg gegeven door:   \n",
    "\n",
    "\n",
    "$$\n",
    "\\Delta S=-\\beta\\,S\\,I\\,\\Delta t\\,,\n",
    "$$\n",
    "\n",
    "\n",
    "waarbij het minteken wordt verklaard door het feit dat de interactie tussen vatbare en geïnfecteerde individuen leidt tot een afname van de eerstgenoemde. Derhalve wordt de **verandering van het relatief aantal vatbare individuen per $\\Delta t$ gegeven door:**   \n",
    "\n",
    "\n",
    "$$\n",
    "\\dfrac{\\Delta S}{\\Delta t}=-\\beta\\,S\\,I\\,.\n",
    "$$\n",
    "\n",
    "\n",
    "\n",
    "In de praktijk is het belangrijk om deze verandering te kennen voor heel korte perioden. Vandaar **beschouwen we een zeer korte periode (infinitesimaal kort), aangeduid als $dt$**, waarmee een evenzeer **zeer kleine verandering van het relatief aantal vatbare individuen $dS$ mee gepaard gaat**, zodat   \n",
    "\n",
    "$$\n",
    "\\dfrac{dS}{dt}=-\\beta\\,S\\,I.\n",
    "$$\n",
    "\n",
    "Op dezelfde manier kan de infinitesimale **verandering van het relatief aantal geïnfecteerde individuen $dI$** beschreven worden, waarbij $\\gamma$ **de herstellingssnelheid** van de ziekte uitdrukt als $\\frac{1}{tijd\\, nodig\\, om\\, te\\, herstellen}$:\n",
    "\n",
    "$$\n",
    "\\dfrac{dI}{dt}= \\beta \\, S \\, I - \\gamma \\, I \n",
    "$$\n"
   ]
  },
  {
   "cell_type": "markdown",
   "metadata": {},
   "source": [
    "### Implementatie van de modelvergelijkingen\n",
    "Het **vinden van een analytische oplossing** van een (stelsel) differentiaalvergelijking(en) is heel wat **omslachtig**er dan het oplossen van een (stelsel) algebraïsche vergelijking(en) en berust vaak op de berekening van integralen die pas op het einde van de derde graad aan bod komen.   \n",
    "Bovendien is het in vele gevallen zelfs onmogelijk om een analytische oplossing te vinden.     \n",
    "\n",
    "Gelukkig is het wel mogelijk om **met behulp van computers numerieke benaderingen te vinden** voor de gezochte oplossingen. Hiertoe worden de vergelijkingen hieronder **geïmplementeerd** en vervolgens **opgelost**."
   ]
  },
  {
   "cell_type": "code",
   "execution_count": null,
   "metadata": {
    "ExecuteTime": {
     "end_time": "2017-10-11T13:29:54.207904Z",
     "start_time": "2017-10-11T13:29:54.193903Z"
    },
    "collapsed": true
   },
   "outputs": [],
   "source": [
    "def SIR(INP,t):  \n",
    "\t'''\n",
    "    implementatie van het SIR-model\n",
    "    Inputs:\n",
    "    - INP: een vector met het relatief aantal vatbare personen (S) en het aantal geinfecteerde personen (I), zoals [S, I]\n",
    "    - t: de tijd\n",
    "    Outputs:\n",
    "    - Y: een vector met de verandering van het relatief aantal vatbare personen (dS/dt) en \n",
    "        de verandering van het relatief aantal geinfecteerde personen (dI/dt), zoals [dS/dt, dI/dt]\n",
    "    '''\n",
    "\tY=np.zeros((2))\n",
    "\tS = INP[0]\n",
    "\tI = INP[1]\n",
    "\tY[0] = - beta * S * I\n",
    "\tY[1] = beta * S * I - gamma * I\n",
    "\treturn Y  "
   ]
  },
  {
   "cell_type": "markdown",
   "metadata": {},
   "source": [
    "#### Definitie modelparameters en initiële conditie"
   ]
  },
  {
   "cell_type": "code",
   "execution_count": null,
   "metadata": {
    "ExecuteTime": {
     "end_time": "2017-10-11T13:29:55.296966Z",
     "start_time": "2017-10-11T13:29:55.276965Z"
    },
    "collapsed": true
   },
   "outputs": [],
   "source": [
    "beta=0.25\n",
    "gamma=0.1\n",
    "maxT=150\n",
    "I0=0.01\n",
    "S0=1-I0"
   ]
  },
  {
   "cell_type": "markdown",
   "metadata": {},
   "source": [
    "####  Oplossing stelsel differentiaalvergelijkingen"
   ]
  },
  {
   "cell_type": "code",
   "execution_count": null,
   "metadata": {
    "ExecuteTime": {
     "end_time": "2017-10-11T13:29:56.207018Z",
     "start_time": "2017-10-11T13:29:56.191017Z"
    },
    "collapsed": true
   },
   "outputs": [],
   "source": [
    "t_start = 0.0; t_end = maxT; t_inc = 1.0\n",
    "t_range = np.arange(t_start, t_end+t_inc, t_inc)\n",
    "RES_SIR = spi.odeint(SIR,(S0, I0),t_range)"
   ]
  },
  {
   "cell_type": "markdown",
   "metadata": {},
   "source": [
    "#### Plotten van de oplossingen"
   ]
  },
  {
   "cell_type": "code",
   "execution_count": null,
   "metadata": {
    "ExecuteTime": {
     "end_time": "2017-10-11T13:29:58.269136Z",
     "start_time": "2017-10-11T13:29:57.937117Z"
    }
   },
   "outputs": [],
   "source": [
    "pl.plot(RES_SIR[:,0], '-g', label='Vatbaar')\n",
    "pl.plot(RES_SIR[:,1], '-r', label='Besmet')\n",
    "pl.plot(1-RES_SIR[:,0]-RES_SIR[:,1], '-k', label='Hersteld')\n",
    "pl.legend(loc=0)\n",
    "pl.title('SIR-model')\n",
    "pl.xlabel('Tijd (dagen)')\n",
    "pl.ylabel('Relatief aantal (-)')\n",
    "pl.show()"
   ]
  },
  {
   "cell_type": "markdown",
   "metadata": {},
   "source": [
    "#### Simulatieresultaten op dag T"
   ]
  },
  {
   "cell_type": "code",
   "execution_count": null,
   "metadata": {
    "ExecuteTime": {
     "end_time": "2017-10-11T13:31:25.228110Z",
     "start_time": "2017-10-11T13:31:25.221109Z"
    }
   },
   "outputs": [],
   "source": [
    "T=21\n",
    "RES_SIR[T+1,:]"
   ]
  },
  {
   "cell_type": "markdown",
   "metadata": {},
   "source": [
    "## SIR-model met vaccinaties\n",
    "\n",
    "In essentie zorgt het vaccineren van nog vatbare personen ervoor dat zij direct kunnen overgaan van de vatbare toestand naar de herstelde zonder te lijden onder de symptomen die gepaard gaan met de besmettelijke ziekte in kwestie. \n",
    "\n",
    "Stellen we $\\alpha$ $[\\text{T}^{-1}]$ gelijk aan de fractie van de totale populatie die per tijdsinterval $T$ kan gevaccineerd worden.   \n",
    "Deze modelparameter stelt het relatief aantal individuen in de populatie voor dat gedurende $\\Delta t$ kan gevaccineerd worden en zo immuniteit verwerft. "
   ]
  },
  {
   "cell_type": "markdown",
   "metadata": {},
   "source": [
    "#### Implementatie van de modelvergelijkingen"
   ]
  },
  {
   "cell_type": "code",
   "execution_count": null,
   "metadata": {
    "ExecuteTime": {
     "end_time": "2017-10-11T13:33:07.812977Z",
     "start_time": "2017-10-11T13:33:07.798976Z"
    },
    "collapsed": true
   },
   "outputs": [],
   "source": [
    "def SIRV(INP,t):  \n",
    "\t'''The main set of equations'''\n",
    "\tY=np.zeros((2))\n",
    "\tS = INP[0]\n",
    "\tI = INP[1]\n",
    "\tY[0] = - beta *S * I - alpha*S\n",
    "\tY[1] = beta * S * I - gamma * I\n",
    "\treturn Y  "
   ]
  },
  {
   "cell_type": "markdown",
   "metadata": {},
   "source": [
    "#### Definitie modelparameters en initiële conditie"
   ]
  },
  {
   "cell_type": "code",
   "execution_count": null,
   "metadata": {
    "ExecuteTime": {
     "end_time": "2017-10-11T13:33:08.924041Z",
     "start_time": "2017-10-11T13:33:08.919040Z"
    },
    "collapsed": true
   },
   "outputs": [],
   "source": [
    "beta=0.25\n",
    "gamma=0.1\n",
    "alpha=0.01\n",
    "maxT=150\n",
    "I0=0.01\n",
    "S0=1-I0"
   ]
  },
  {
   "cell_type": "markdown",
   "metadata": {},
   "source": [
    "####  Oplossing stelsel differentiaalvergelijkingen"
   ]
  },
  {
   "cell_type": "code",
   "execution_count": null,
   "metadata": {
    "ExecuteTime": {
     "end_time": "2017-10-11T13:33:10.312120Z",
     "start_time": "2017-10-11T13:33:10.304120Z"
    },
    "collapsed": true
   },
   "outputs": [],
   "source": [
    "t_start = 0.0; t_end = maxT; t_inc = 1.0\n",
    "t_range = np.arange(t_start, t_end+t_inc, t_inc)\n",
    "RES_SIRV = spi.odeint(SIRV,(S0, I0),t_range)"
   ]
  },
  {
   "cell_type": "markdown",
   "metadata": {},
   "source": [
    "#### Plotten van de oplossingen"
   ]
  },
  {
   "cell_type": "code",
   "execution_count": null,
   "metadata": {
    "ExecuteTime": {
     "end_time": "2017-10-11T13:33:12.184227Z",
     "start_time": "2017-10-11T13:33:11.967215Z"
    }
   },
   "outputs": [],
   "source": [
    "pl.plot(RES_SIRV[:,0], '-g', label='Vatbaar')\n",
    "pl.plot(RES_SIRV[:,1], '-r', label='Besmet')\n",
    "pl.plot(1-RES_SIRV[:,0]-RES_SIRV[:,1], '-k', label='Hersteld')\n",
    "pl.legend(loc=0)\n",
    "pl.title('SIRV-model')\n",
    "pl.xlabel('Tijd (dagen)')\n",
    "pl.ylabel('Relatief aantal (-)')\n",
    "pl.show()"
   ]
  },
  {
   "cell_type": "markdown",
   "metadata": {},
   "source": [
    "#### Simulatieresultaten op dag T"
   ]
  },
  {
   "cell_type": "code",
   "execution_count": null,
   "metadata": {
    "ExecuteTime": {
     "end_time": "2017-10-11T13:33:17.811549Z",
     "start_time": "2017-10-11T13:33:17.795548Z"
    }
   },
   "outputs": [],
   "source": [
    "T=21\n",
    "RES_SIRV[T+1,:]"
   ]
  },
  {
   "cell_type": "markdown",
   "metadata": {},
   "source": [
    "## SEIR-model\n",
    "\n",
    "De overdracht van veel besmettelijke ziekten gaat gepaard met een **zogenaamde latente fase die de tijd voorstelt die nodig is vooraleer een besmet persoon zelf besmettelijk wordt** na het oplopen van de ziekte.    \n",
    "Wiskundig kan de aanwezigheid van een dergelijke fase beschreven worden door het opnemen van een vierde ziektestadium in het schema weergegeven in Figuur 1. Het schema in **Figuur 2** geeft duidelijk aan dat vatbare individuen met een snelheid $\\beta$ geïnfecteerd worden en na een latent stadium met duur $\\kappa^{-1}$   \n",
    "zelf eveneens besmettelijk worden en bijgevolg de overblijvende nog vatbare individuen kunnen besmetten.    \n",
    "Na een periode met duur $\\gamma^{-1}$ vervoegen besmette individuen uiteindelijk de groep van de herstelde individuen. \n",
    "\n",
    "<img src=\"SIR_Scheme2.jpg\" width=\"400\">   \n",
    "\n",
    "\n",
    "<center>**Figuur 2**: Schematische weergave van de overgang tussen de opeenvolgende ziektestadia volgens het SEIR-model.</center>\n"
   ]
  },
  {
   "cell_type": "markdown",
   "metadata": {},
   "source": [
    "#### Implementatie van de modelvergelijkingen"
   ]
  },
  {
   "cell_type": "code",
   "execution_count": null,
   "metadata": {
    "ExecuteTime": {
     "end_time": "2017-10-11T13:41:03.737198Z",
     "start_time": "2017-10-11T13:41:03.723198Z"
    },
    "collapsed": true
   },
   "outputs": [],
   "source": [
    "def SEIR(INP,t):  \n",
    "\t'''\n",
    "    implementatie van het SIR-model\n",
    "    Inputs:\n",
    "    - INP: een vector met het relatief aantal vatbare personen (S), het aantal geinfecteerde personen (I) en het aantal personen in de latente fase (E),\n",
    "        zoals [S, I, E]\n",
    "    - t: de tijd\n",
    "    Outputs:\n",
    "    - Y: een vector met de verandering van het relatief aantal vatbare personen (dS/dt) en \n",
    "        de verandering van het relatief aantal geinfecteerde personen (dI/dt) en de verandering van het relatief aantal latente personen (dE/dt), \n",
    "        zoals [dS/dt, dI/dt, dE/dt]\n",
    "    '''    \n",
    "\tY=np.zeros((3))\n",
    "\tS = INP[0]\n",
    "\tE = INP[1]\n",
    "\tI = INP[2]\n",
    "\tY[0] = - beta * S * I - alpha*S\n",
    "\tY[1] =  beta * S * I - kappa*E\n",
    "\tY[2] = kappa*E - gamma * I\n",
    "\treturn Y  "
   ]
  },
  {
   "cell_type": "markdown",
   "metadata": {},
   "source": [
    "#### Definitie modelparameters en initiële conditie"
   ]
  },
  {
   "cell_type": "code",
   "execution_count": null,
   "metadata": {
    "ExecuteTime": {
     "end_time": "2017-10-11T13:41:06.787373Z",
     "start_time": "2017-10-11T13:41:06.770372Z"
    },
    "collapsed": true
   },
   "outputs": [],
   "source": [
    "beta=0.25\n",
    "gamma=0.1\n",
    "alpha=0.01\n",
    "kappa=0.5\n",
    "maxT=150\n",
    "E0=0.01\n",
    "S0=1-E0\n",
    "I0=0"
   ]
  },
  {
   "cell_type": "markdown",
   "metadata": {},
   "source": [
    "####  Oplossing stelsel differentiaalvergelijkingen"
   ]
  },
  {
   "cell_type": "code",
   "execution_count": null,
   "metadata": {
    "ExecuteTime": {
     "end_time": "2017-10-11T13:41:09.160509Z",
     "start_time": "2017-10-11T13:41:09.145508Z"
    },
    "collapsed": true
   },
   "outputs": [],
   "source": [
    "t_start = 0.0; t_end = maxT; t_inc = 1.0\n",
    "t_range = np.arange(t_start, t_end+t_inc, t_inc)\n",
    "RES_SEIR = spi.odeint(SEIR,(S0, E0, I0),t_range)"
   ]
  },
  {
   "cell_type": "markdown",
   "metadata": {},
   "source": [
    "#### Plotten van de oplossingen"
   ]
  },
  {
   "cell_type": "code",
   "execution_count": null,
   "metadata": {
    "ExecuteTime": {
     "end_time": "2017-10-11T13:41:19.923124Z",
     "start_time": "2017-10-11T13:41:19.694111Z"
    }
   },
   "outputs": [],
   "source": [
    "pl.plot(RES_SEIR[:,0], '-g', label='Vatbaar')\n",
    "pl.plot(RES_SEIR[:,1], '-r', label='Besmet')\n",
    "pl.plot(RES_SEIR[:,2], '-m', label='Besmettelijk')\n",
    "pl.plot(1-RES_SEIR[:,0]-RES_SEIR[:,1]--RES_SEIR[:,2], '-k', label='Hersteld')\n",
    "pl.legend(loc=0)\n",
    "pl.title('SEIR-model')\n",
    "pl.xlabel('Tijd (dagen)')\n",
    "pl.ylabel('Relatief aantal (-)')\n",
    "pl.show()"
   ]
  },
  {
   "cell_type": "markdown",
   "metadata": {},
   "source": [
    "#### Simulatieresultaten op dag T"
   ]
  },
  {
   "cell_type": "code",
   "execution_count": null,
   "metadata": {
    "ExecuteTime": {
     "end_time": "2017-10-11T13:41:24.700397Z",
     "start_time": "2017-10-11T13:41:24.693397Z"
    }
   },
   "outputs": [],
   "source": [
    "T=21\n",
    "RES_SEIR[T+1,:]"
   ]
  }
 ],
 "metadata": {
  "kernelspec": {
   "display_name": "Python 3",
   "language": "python",
   "name": "python3"
  },
  "language_info": {
   "codemirror_mode": {
    "name": "ipython",
    "version": 3
   },
   "file_extension": ".py",
   "mimetype": "text/x-python",
   "name": "python",
   "nbconvert_exporter": "python",
   "pygments_lexer": "ipython3",
   "version": "3.6.2"
  },
  "latex_envs": {
   "bibliofile": "biblio.bib",
   "cite_by": "apalike",
   "current_citInitial": 1,
   "eqLabelWithNumbers": true,
   "eqNumInitial": 0
  },
  "nav_menu": {
   "height": "240px",
   "width": "308px"
  },
  "toc": {
   "navigate_menu": true,
   "number_sections": false,
   "sideBar": true,
   "threshold": 6,
   "toc_cell": false,
   "toc_section_display": "block",
   "toc_window_display": false
  }
 },
 "nbformat": 4,
 "nbformat_minor": 1
}
