{
 "metadata": {
  "name": "Introductie_opl"
 }, 
 "nbformat": 2, 
 "worksheets": [
  {
   "cells": [
    {
     "cell_type": "markdown", 
     "source": [
      "# <font color=blue> Wetenschappelijke analyse met Python: Introductie </font>"
     ]
    }, 
    {
     "cell_type": "markdown", 
     "source": [
      "__Auteur__: S. De Ridder "
     ]
    }, 
    {
     "cell_type": "markdown", 
     "source": [
      "***", 
      "## Doel?"
     ]
    }, 
    {
     "cell_type": "markdown", 
     "source": [
      "Computer inschakelen om berekeningen te doen:", 
      "", 
      "-  enkel de fysica begrijpen, computer aansturen en resultaten interpreteren", 
      "-  is een complexe rekenmachine", 
      "-  kunnen grote databases gebruiken", 
      "-  goede visualisatie", 
      "", 
      "-> Enorm veel gebruikt in onze data-maatschappij!", 
      "", 
      "*** ", 
      "## Computationeel denken", 
      "", 
      "-  Abstractie van problemen", 
      "-  Problemen ontleden en opdelen", 
      "-  Oplossingsmethodes bedenken", 
      "", 
      "<img src=\"https://www.computationalthinkers.com/wp-content/uploads/2016/01/ComputationalThinkingProductLogo.png\" alt=\"Drawing\" style=\"width: 300px;\"/>", 
      "", 
      "4 stappen:", 
      "", 
      "", 
      "-  Probleemstelling begrijpen", 
      "-  Model bouwen (abstractie)", 
      "-  Computer werk laten doen", 
      "-  Resultaten interpreteren", 
      "", 
      "<img src=\"https://static1.squarespace.com/static/52fd69d0e4b01d4da24bfea9/t/57e8435bf5e23123e59d2952/1474839395575/?format=750w\" alt=\"Drawing\" style=\"width: 600px;\"/>"
     ]
    }, 
    {
     "cell_type": "markdown", 
     "source": [
      "***", 
      "## Python"
     ]
    }, 
    {
     "cell_type": "markdown", 
     "source": [
      "![Python logo](https://www.python.org/static/community_logos/python-logo-master-v3-TM.png)"
     ]
    }, 
    {
     "cell_type": "markdown", 
     "source": [
      "Python is een enorm populaire (gratis) __programmeertaal__. ", 
      "Ze wordt onder meer gebruikt bij bedrijven als Google, Facebook, Wikipedia, NASA, CERN, ... ", 
      "", 
      "Met Python code worden onder meer __games en web applicaties__ aangestuurd, maar ook __microcomputers__ (zoals de Raspberry PI) die computergestuurde taken kunnen verrichten zoals in robotica.", 
      "Python wordt echter ook enorm veel gebruikt in de __wetenschappelijke__ wereld. Veel data-analysten maken gebruik van Python. Verder worden veel experimenten nu digitaal gedaan door middel van computer simulaties."
     ]
    }, 
    {
     "cell_type": "markdown", 
     "source": [
      "<img src=\"https://32414320wji53mwwch1u68ce-wpengine.netdna-ssl.com/wp-content/uploads/2014/08/u_ranger2-2.jpg\" alt=\"Drawing\" style=\"width: 400px;\"/>", 
      "<img src=\"https://i.stack.imgur.com/O330w.png alt=\"Drawing\" style=\"width: 400px;\"/>"
     ]
    }, 
    {
     "cell_type": "markdown", 
     "source": [
      "***", 
      "## Notebook"
     ]
    }, 
    {
     "cell_type": "markdown", 
     "source": [
      "Website waarin je python code kan schrijven die bewaard wordt op je computer.", 
      "", 
      "### 2 soorten cellen:", 
      "", 
      "-  Markdown: tekst", 
      "-  Code: om python code in te schrijven (met \"[]\" voor)  ", 
      "", 
      "### Code uitvoeren:", 
      "", 
      "-  1 cel: Shift +  Enter", 
      "-  Alles: Run (links )", 
      "", 
      "-> Resultaten worden onmiddellijk getoond"
     ]
    }, 
    {
     "cell_type": "markdown", 
     "source": [
      "***", 
      "## Python basis"
     ]
    }, 
    {
     "cell_type": "markdown", 
     "source": [
      "### Iets uitprinten naar het scherm:"
     ]
    }, 
    {
     "cell_type": "markdown", 
     "source": [
      "Hiervoor gebruiken we het \"print\" commando. De zin moet tussen \" \" en haakjes staan!"
     ]
    }, 
    {
     "cell_type": "code", 
     "collapsed": false, 
     "input": [
      "print(\"Dag Wereld\")"
     ], 
     "language": "python", 
     "outputs": [
      {
       "output_type": "stream", 
       "stream": "stdout", 
       "text": [
        "Dag Wereld"
       ]
      }
     ], 
     "prompt_number": 1
    }, 
    {
     "cell_type": "markdown", 
     "source": [
      "### Een variabele defini\u00ebren:"
     ]
    }, 
    {
     "cell_type": "markdown", 
     "source": [
      "Om een woord of een zin (letters) in een bepaalde variabele te steken heb je \" \" nodig.", 
      "Hieronder zeggen we dus dat de variabele a gelijk is aan \"Fysica is fantastisch\""
     ]
    }, 
    {
     "cell_type": "code", 
     "collapsed": true, 
     "input": [
      "a = \"Fysica is fantastisch\""
     ], 
     "language": "python", 
     "outputs": [], 
     "prompt_number": 2
    }, 
    {
     "cell_type": "markdown", 
     "source": [
      "Nu printen we dit weer uit (geen \" \" nodig, want reeds in a):"
     ]
    }, 
    {
     "cell_type": "code", 
     "collapsed": false, 
     "input": [
      "print(a)"
     ], 
     "language": "python", 
     "outputs": [
      {
       "output_type": "stream", 
       "stream": "stdout", 
       "text": [
        "Fysica is fantastisch"
       ]
      }
     ], 
     "prompt_number": 3
    }, 
    {
     "cell_type": "markdown", 
     "source": [
      "Om een getal (3.1415) in een variabele (b) te steken, hebben we geen \" \" nodig. "
     ]
    }, 
    {
     "cell_type": "code", 
     "collapsed": true, 
     "input": [
      "b=3.1415"
     ], 
     "language": "python", 
     "outputs": [], 
     "prompt_number": 4
    }, 
    {
     "cell_type": "code", 
     "collapsed": false, 
     "input": [
      "print(b)"
     ], 
     "language": "python", 
     "outputs": [
      {
       "output_type": "stream", 
       "stream": "stdout", 
       "text": [
        "3.1415"
       ]
      }
     ], 
     "prompt_number": 5
    }, 
    {
     "cell_type": "markdown", 
     "source": [
      "### Foutmeldingen", 
      "Wanneer er een fout in je code zit, waardoor de computer hier niet mee kan omgaan, zal er een foutmelding uitgeprint worden als je de cel uitvoert. ", 
      "", 
      "Hieronder willen we bijvoorbeeld de variabele 'c' uitprinten, die niet bestaat."
     ]
    }, 
    {
     "cell_type": "code", 
     "collapsed": true, 
     "input": [
      "#print(c)"
     ], 
     "language": "python", 
     "outputs": [], 
     "prompt_number": 6
    }, 
    {
     "cell_type": "markdown", 
     "source": [
      "Om de code hieronder toch te kunnen uitvoeren, moeten we deze fout eerst verwijderen.  (# ervoor zetten zorgt dat deze regel niet wordt opgenomen in de code)"
     ]
    }, 
    {
     "cell_type": "markdown", 
     "source": [
      "### Wiskundige bewerkingen", 
      "", 
      "-  *: vermenigvuldiging; \\: deling, +: plus; -: min", 
      "- Werkt zowel met gewone getallen als variabelen.", 
      "", 
      "Bijvoorbeeld: oppervlakte cirkel met straal 5:"
     ]
    }, 
    {
     "cell_type": "code", 
     "collapsed": false, 
     "input": [
      "3.1415*5*5"
     ], 
     "language": "python", 
     "outputs": [
      {
       "output_type": "pyout", 
       "prompt_number": 7, 
       "text": [
        "78.53750000000001"
       ]
      }
     ], 
     "prompt_number": 7
    }, 
    {
     "cell_type": "code", 
     "collapsed": true, 
     "input": [
      "opp= b*5*5"
     ], 
     "language": "python", 
     "outputs": [], 
     "prompt_number": 8
    }, 
    {
     "cell_type": "code", 
     "collapsed": false, 
     "input": [
      "print(opp)"
     ], 
     "language": "python", 
     "outputs": [
      {
       "output_type": "stream", 
       "stream": "stdout", 
       "text": [
        "78.5375"
       ]
      }
     ], 
     "prompt_number": 9
    }, 
    {
     "cell_type": "markdown", 
     "source": [
      "### Bibliotheken", 
      "In python bestaan er veel bibliotheken met extra functies. ", 
      "", 
      "Deze kan je enkel gebruiken nadat je ze hebt ge\u00efmporteerd.", 
      "", 
      "-  De bibliotheek \"matplotlib\" wordt gebruikt om figuren te maken.", 
      "-  De bibliotheek \"math\" bevat meerdere wiskundige functies", 
      "-  De bibliotheek \"numpy\" bevat functies die te maken hebben met lijsten"
     ]
    }, 
    {
     "cell_type": "code", 
     "collapsed": true, 
     "input": [
      "import math, numpy"
     ], 
     "language": "python", 
     "outputs": [], 
     "prompt_number": 10
    }, 
    {
     "cell_type": "markdown", 
     "source": [
      "Je roept de functies binnenin deze bibliotheken op door de naam van de biblotheek te typen, gevolgd door een punt en de naam van de functie. ", 
      "Door te stoppen na het punt en op de Tab knop op je toetsenbord te duwen krijg je een overzicht van de functies.", 
      "", 
      "Pi zit gedefinieerd in math:"
     ]
    }, 
    {
     "cell_type": "code", 
     "collapsed": false, 
     "input": [
      "math.pi"
     ], 
     "language": "python", 
     "outputs": [
      {
       "output_type": "pyout", 
       "prompt_number": 11, 
       "text": [
        "3.141592653589793"
       ]
      }
     ], 
     "prompt_number": 11
    }, 
    {
     "cell_type": "markdown", 
     "source": [
      "math bevat ook de goniometrische functies:"
     ]
    }, 
    {
     "cell_type": "code", 
     "collapsed": false, 
     "input": [
      "math.cos(math.pi)"
     ], 
     "language": "python", 
     "outputs": [
      {
       "output_type": "pyout", 
       "prompt_number": 12, 
       "text": [
        "-1.0"
       ]
      }
     ], 
     "prompt_number": 12
    }, 
    {
     "cell_type": "markdown", 
     "source": [
      "Alternatief kunnen we bibliotheken of een deel ervan ook importeren en een andere naam geven.", 
      "", 
      "Hieronder importeren we het \"pyplot\" deel van matplotlib en noemen dit plt. Vanaf nu kunnen we alle functies gedefinieerd in matplotlib.pyplot dus gebruiken door \"plt.\" te typen, gevolgd door de naam van de functie."
     ]
    }, 
    {
     "cell_type": "code", 
     "collapsed": true, 
     "input": [
      "import matplotlib.pyplot as plt"
     ], 
     "language": "python", 
     "outputs": [], 
     "prompt_number": 13
    }, 
    {
     "cell_type": "markdown", 
     "source": [
      "### Lijsten", 
      "Hierboven hebben we de bibliotheek numpy al ge\u00efmporteerd, we kunnen deze nu dus gebruiken.", 
      "", 
      "We maken eerst bijvoorbeeld een lijst (numpy!) van de natuurlijke getallen tussen 0 en 20 (0 is de startwaarde van de lijst, 20 de eindwaarde en 1 de stapgrootte) en steken dit in de variabele t."
     ]
    }, 
    {
     "cell_type": "code", 
     "collapsed": true, 
     "input": [
      "t= numpy.arange(0, 20, 1)"
     ], 
     "language": "python", 
     "outputs": [], 
     "prompt_number": 14
    }, 
    {
     "cell_type": "markdown", 
     "source": [
      "We maken nu een nieuwe lege lijst x. Dit doen we door x=[] te stellen."
     ]
    }, 
    {
     "cell_type": "code", 
     "collapsed": true, 
     "input": [
      "x=[]"
     ], 
     "language": "python", 
     "outputs": [], 
     "prompt_number": 15
    }, 
    {
     "cell_type": "markdown", 
     "source": [
      "Nu bekijken we alle elementen in t, door middel van een 'for' lus. We zeggen dus: Voor elk element in t, doe iets.", 
      "Ons 'iets' hier is nu dat we de sinus van dit element toevoegen aan de lijst x. "
     ]
    }, 
    {
     "cell_type": "code", 
     "collapsed": true, 
     "input": [
      "for element in t:", 
      "    x.append(math.sin(element))"
     ], 
     "language": "python", 
     "outputs": [], 
     "prompt_number": 16
    }, 
    {
     "cell_type": "markdown", 
     "source": [
      "We printen nu x weer uit."
     ]
    }, 
    {
     "cell_type": "code", 
     "collapsed": false, 
     "input": [
      "print(x)"
     ], 
     "language": "python", 
     "outputs": [
      {
       "output_type": "stream", 
       "stream": "stdout", 
       "text": [
        "[0.0, 0.8414709848078965, 0.9092974268256817, 0.1411200080598672, -0.7568024953079282, -0.9589242746631385, -0.27941549819892586, 0.6569865987187891, 0.9893582466233818, 0.4121184852417566, -0.5440211108893698, -0.9999902065507035, -0.5365729180004349, 0.4201670368266409, 0.9906073556948704, 0.6502878401571168, -0.2879033166650653, -0.9613974918795568, -0.750987246771676, 0.14987720966295234]"
       ]
      }
     ], 
     "prompt_number": 17
    }, 
    {
     "cell_type": "markdown", 
     "source": [
      "Willen we de lengte van de lijst x weten, vragen we len(x):"
     ]
    }, 
    {
     "cell_type": "code", 
     "collapsed": false, 
     "input": [
      "print(len(x))"
     ], 
     "language": "python", 
     "outputs": [
      {
       "output_type": "stream", 
       "stream": "stdout", 
       "text": [
        "20"
       ]
      }
     ], 
     "prompt_number": 18
    }, 
    {
     "cell_type": "markdown", 
     "source": [
      "### Figuren", 
      "", 
      "Nu gaan we een figuur maken van de x-waarden als functie van de t-waarden (we tonen dus de sinus tussen 0 en 20 (in radialen)).", 
      "We gebruiken hiervoor dus plt. , wat we hierboven gedefineerd hebben.", 
      "", 
      "Het eerste commando, %pylab inline, gebruiken we om de functies onmiddellijk hier in deze notebook te tonen."
     ]
    }, 
    {
     "cell_type": "code", 
     "collapsed": false, 
     "input": [
      "%pylab inline", 
      "plt.plot(t,x)"
     ], 
     "language": "python", 
     "outputs": [
      {
       "output_type": "stream", 
       "stream": "stdout", 
       "text": [
        "", 
        "Welcome to pylab, a matplotlib-based Python environment [backend: module://IPython.zmq.pylab.backend_inline].", 
        "For more information, type 'help(pylab)'."
       ]
      }, 
      {
       "output_type": "pyout", 
       "prompt_number": 19, 
       "text": [
        "[<matplotlib.lines.Line2D at 0x3427390>]"
       ]
      }, 
      {
       "output_type": "display_data", 
       "png": "[encoded data removed]"
      }
     ], 
     "prompt_number": 19
    }, 
    {
     "cell_type": "markdown", 
     "source": [
      "Op een goede figuur staan natuurlijk de titels van de assen:"
     ]
    }, 
    {
     "cell_type": "code", 
     "collapsed": false, 
     "input": [
      "plt.plot(t,x)", 
      "plt.xlabel('tijd [s]')", 
      "plt.ylabel('positie x [m]')", 
      "plt.title('Mijn eerste figuur')"
     ], 
     "language": "python", 
     "outputs": [
      {
       "output_type": "pyout", 
       "prompt_number": 20, 
       "text": [
        "<matplotlib.text.Text at 0x3688ed0>"
       ]
      }, 
      {
       "output_type": "display_data", 
       "png": "[encoded data removed]"
      }
     ], 
     "prompt_number": 20
    }, 
    {
     "cell_type": "markdown", 
     "source": [
      "### Functies en klassen ", 
      "Je kan functies of klassen van objecten gebruiken uit ge\u00efmporteerde bibliotheken, maar je kan er echter ook zelf defini\u00ebren.", 
      "", 
      "In een __functie__ kan je een deel van je code schrijven, die je dan erna kan oproepen.", 
      "", 
      "", 
      "Bijvoorbeeld, de functie \"oppervlakteCirkel\" berekent de oppervlakte van een cirkel. De straal r moet meegegeven worden als argument.", 
      "", 
      "Je definieert een functie met: def _naam functie_(_argument_):", 
      "", 
      "Vervolgens doe je je berekening binnen de functie, en geeft de functie het resultaat terug (\"return\")."
     ]
    }, 
    {
     "cell_type": "code", 
     "collapsed": true, 
     "input": [
      "def oppervlakteCirkel(r):", 
      "    opp=math.pi*r*r", 
      "    return opp"
     ], 
     "language": "python", 
     "outputs": [], 
     "prompt_number": 21
    }, 
    {
     "cell_type": "markdown", 
     "source": [
      "Deze functie kunnen we nu oproepen, waarbij we nu een waarde voor de straal meegeven.", 
      "", 
      "We printen dit onmiddellijk uit."
     ]
    }, 
    {
     "cell_type": "code", 
     "collapsed": false, 
     "input": [
      "print(oppervlakteCirkel(5))"
     ], 
     "language": "python", 
     "outputs": [
      {
       "output_type": "stream", 
       "stream": "stdout", 
       "text": [
        "78.5398163397"
       ]
      }
     ], 
     "prompt_number": 22
    }, 
    {
     "cell_type": "markdown", 
     "source": [
      "Een __klasse__ kan nieuwe objecten defini\u00ebren die bepaalde eigenschappen hebben. ", 
      "", 
      "Als voorbeeld defini\u00ebren we de klasse cilinder, met als parameters de straal r en de hoogte h:"
     ]
    }, 
    {
     "cell_type": "code", 
     "collapsed": true, 
     "input": [
      "class cilinder:", 
      "    def __init__(self, r, h):", 
      "        self.r=r", 
      "        self.h=h"
     ], 
     "language": "python", 
     "outputs": [], 
     "prompt_number": 23
    }, 
    {
     "cell_type": "markdown", 
     "source": [
      "We kunnen nu een object van deze klasse aanmaken:"
     ]
    }, 
    {
     "cell_type": "code", 
     "collapsed": true, 
     "input": [
      "tafelpoot=cilinder(r=5,h=80)"
     ], 
     "language": "python", 
     "outputs": [], 
     "prompt_number": 24
    }, 
    {
     "cell_type": "markdown", 
     "source": [
      "Nu kunnen we de straal en de hoogte van de tafelpoot weer opvragen door:"
     ]
    }, 
    {
     "cell_type": "code", 
     "collapsed": false, 
     "input": [
      "print(\"hoogte: \", tafelpoot.h)", 
      "print(\"straal: \", tafelpoot.r)"
     ], 
     "language": "python", 
     "outputs": [
      {
       "output_type": "stream", 
       "stream": "stdout", 
       "text": [
        "('hoogte: ', 80)", 
        "('straal: ', 5)"
       ]
      }
     ], 
     "prompt_number": 25
    }, 
    {
     "cell_type": "markdown", 
     "source": [
      "*** ", 
      "## <font color=red> __Oefeningen:__ </font>"
     ]
    }, 
    {
     "cell_type": "markdown", 
     "source": [
      "### <font color=red> __Oefening 1:__ </font>", 
      "Een bal valt met een constante versnelling van -9.81 m/s$^2$ vanop een hoogte van 500 m. Dit zijn dus de gegevens:"
     ]
    }, 
    {
     "cell_type": "code", 
     "collapsed": true, 
     "input": [
      "a=-9.81", 
      "h0=500"
     ], 
     "language": "python", 
     "outputs": [], 
     "prompt_number": 26
    }, 
    {
     "cell_type": "markdown", 
     "source": [
      "Om de hoogte als functie van de tijd te krijgen, gebruiken we de formule van een EVRB:", 
      "", 
      "$h=h0+\\dfrac{a*t^2}{2}$", 
      "", 
      "Bereken de positie h na 5 s, gebruik makende van deze formule:"
     ]
    }, 
    {
     "cell_type": "code", 
     "collapsed": true, 
     "input": [
      "t=5"
     ], 
     "language": "python", 
     "outputs": [], 
     "prompt_number": 27
    }, 
    {
     "cell_type": "code", 
     "collapsed": true, 
     "input": [
      "h=h0+a*t*t*0.5"
     ], 
     "language": "python", 
     "outputs": [], 
     "prompt_number": 29
    }, 
    {
     "cell_type": "markdown", 
     "source": [
      "Print deze nu uit:"
     ]
    }, 
    {
     "cell_type": "code", 
     "collapsed": false, 
     "input": [
      "print(h)"
     ], 
     "language": "python", 
     "outputs": [
      {
       "output_type": "stream", 
       "stream": "stdout", 
       "text": [
        "377.375"
       ]
      }
     ], 
     "prompt_number": 30
    }, 
    {
     "cell_type": "markdown", 
     "source": [
      "### <font color=red> __Oefening 2:__ </font>", 
      "", 
      "Maak een figuur van de hoogte als functie van de tijd van de valbeweging van de bal in oefening 1.", 
      "", 
      "Maak hiervoor eerst een lijst van tijdstippen (genaamd t_lijst) tussen 0 en 11 s, met stapgrootte 0.1 s."
     ]
    }, 
    {
     "cell_type": "code", 
     "collapsed": true, 
     "input": [
      "t_lijst=numpy.arange(0,11,0.1)"
     ], 
     "language": "python", 
     "outputs": [], 
     "prompt_number": 35
    }, 
    {
     "cell_type": "markdown", 
     "source": [
      "We maken nu een nieuwe lege lijst (h_lijst)."
     ]
    }, 
    {
     "cell_type": "code", 
     "collapsed": true, 
     "input": [
      "h_lijst=[]"
     ], 
     "language": "python", 
     "outputs": [], 
     "prompt_number": 36
    }, 
    {
     "cell_type": "markdown", 
     "source": [
      "Steek nu, voor elk tijdstip in de lijst t_lijst, de hoogte in de lijst h_lijst."
     ]
    }, 
    {
     "cell_type": "code", 
     "collapsed": true, 
     "input": [
      "for t in t_lijst:", 
      "    h_lijst.append(h0+a*t*t*0.5)"
     ], 
     "language": "python", 
     "outputs": [], 
     "prompt_number": 37
    }, 
    {
     "cell_type": "markdown", 
     "source": [
      "En toon nu de hoogte als functie van de tijd in een figuur. Benoem ook de assen."
     ]
    }, 
    {
     "cell_type": "code", 
     "collapsed": false, 
     "input": [
      "plt.plot(t_lijst,h_lijst)", 
      "plt.xlabel(\"hoogte [m]\")", 
      "plt.ylabel(\"tijd [s]\")"
     ], 
     "language": "python", 
     "outputs": [
      {
       "output_type": "pyout", 
       "prompt_number": 39, 
       "text": [
        "<matplotlib.text.Text at 0x38be8d0>"
       ]
      }, 
      {
       "output_type": "display_data", 
       "png": "[encoded data removed]"
      }
     ], 
     "prompt_number": 39
    }, 
    {
     "cell_type": "code", 
     "collapsed": true, 
     "input": [], 
     "language": "python", 
     "outputs": []
    }
   ]
  }
 ]
}