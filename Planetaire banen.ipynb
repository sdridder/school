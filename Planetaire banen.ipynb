{
 "metadata": {
  "name": "Planetaire banen"
 }, 
 "nbformat": 2, 
 "worksheets": [
  {
   "cells": [
    {
     "cell_type": "markdown", 
     "source": [
      "# <font color=blue> Planetaire banen: numerieke integratie door middel van python </font>"
     ]
    }, 
    {
     "cell_type": "markdown", 
     "source": [
      "## Introductie"
     ]
    }, 
    {
     "cell_type": "markdown", 
     "source": [
      "Isaac Newton stelde in 1687 de algemene gravitatiewet op:", 
      "", 
      "$\\textbf{F} = \\dfrac{G m_1 m_2}{r^3}\\textbf{r}$", 
      "", 
      "Deze beschrijft de gravitatiekracht $\\textbf{F}$ tussen 2 objecten met massa $m_1$ en $m_2$ en onderlinge afstand $\\textbf{r}$.", 
      "Wanneer we de beginpositie en snelheid weten van beide objecten, kunnen we het traject berekenen. ", 
      "De wetten van Kepler beschrijven zo een beweging van een hemellichaam rond een ander hemellichaam, bijvoorbeeld van de aarde rond de zon."
     ]
    }, 
    {
     "cell_type": "markdown", 
     "source": [
      "<img src=\"https://www.nasa.gov/sites/default/files/orbit-3.jpg\" alt=\"Drawing\" style=\"width: 400px;\"/>"
     ]
    }, 
    {
     "cell_type": "markdown", 
     "source": [
      "Wanneer we te maken hebben met meer dan twee objecten is het in het algemeen onmogelijk om een wiskundige formule neer te schrijven die de posities van de objecten beschrijft. (https://nl.wikipedia.org/wiki/Drielichamenprobleem)", 
      "", 
      "", 
      "In plaats daarvan worden zo'n problemen opgelost door numerieke integratie, m.a.w. het simuleren van het pad met kleine tijdsstappen. De nieuwe posities en snelheden worden dan telkens berekend gebaseerd op de vorige stap.", 
      "In deze python notebook proberen we de banen van de planeten in ons zonnestelsel te simuleren met deze methode."
     ]
    }, 
    {
     "cell_type": "markdown", 
     "source": [
      "***", 
      "## Project: planetaire banen in een vlak ", 
      "", 
      "### Doel:", 
      "", 
      "In dit project proberen we de banen van de planeten te modelleren. ", 
      "", 
      "We doen dit in 1 vlak (z=0) en zetten alle planeten als startpositie op 1 lijn."
     ]
    }, 
    {
     "cell_type": "markdown", 
     "source": [
      "", 
      "<img src=\"https://3c1703fe8d.site.internapcdn.net/newman/gfx/news/hires/2016/foursynchron.gif\" alt=\"Drawing\" style=\"width: 400px;\"/>", 
      "", 
      "", 
      "We nemen hierbij dus de interacties tussen alle objecten in rekening, niet alleen deze met de zon. Dit maakt het probleem zo complex.", 
      "", 
      "### Methode: ", 
      "", 
      "Om dit probleem op te lossen, splitsen we dit in verschillende delen. Dit maakt het al heel wat overzichtelijker.", 
      "", 
      "__1. Defini\u00ebren objecten__", 
      "", 
      "We starten met alle objecten te defini\u00ebren (massa, positie, snelheid, naam).", 
      "", 
      "__2. Berekening versnelling__", 
      "", 
      "De x-component van de versnelling op een lichaam $i$ wordt dus gegeven door:", 
      "", 
      "$a^x_i=\\Sigma_{j}\\dfrac{G m_{j}}{((x_{i}-x_{j})^2+(y_{i}-y_{j})^2+(z_{i}-z_{j})^2)^{3/2}} (x_{j}-x_{i})$", 
      "", 
      "waarbij we dus sommeren over alle andere massa's. Voor de y- en z-component gebruiken we dezelfde formule, maar vervangen $(x_{j}-x_{i})$ door respectievelijk $(y_{j}-y_{i})$ en $(z_{j}-z_{i})$.", 
      "", 
      "", 
      "__3. Kinematica__", 
      "", 
      "Met deze versnelling in elke richting kunnen we nu de formules voor een EVRB (eenparig veranderlijke rechtlijnige beweging) toepassen. Bijvoorbeeld voor de x-positie:", 
      "", 
      "$x=x_{0}+v^{x}_{0} t+\\dfrac{a^x}{2} t^{2}$", 
      "", 
      "Met $x_{0}$ de begin x-positie, $v^x_0$ de beginsnelheid in de x-richting.", 
      "", 
      "De snelheid verandert volgens $v^x=v^x_{0}+a^{x} t$. ", 
      "", 
      "Hetzelfde geldt in de y- en z- richting.", 
      "", 
      "__4. Stapsgewijze simulatie:__", 
      "", 
      "Met de bovenstaande informatie kunnen we nu de simulatie doen. Alle fysica is reeds ge\u00efmplementeerd.", 
      "", 
      "-  We beslissen hoe lang we gaan simuleren (een jaar?)", 
      "-  We delen deze totale tijd op in heel korte tijdsintervallen", 
      "-  We berekenen voor het eerste tijdsinterval onze versnelling d.m.v. deel 2", 
      "-  We verplaatsen onze objecten en berekenen een nieuwe snelheid (deel 3)", 
      "-  We gaan nu over naar het volgende tijdsinterval en doen weer hetzelfde. Enzoverder...", 
      "-  Als we aan de totale tijd gekomen zijn, dan stoppen we. ", 
      "-  De tussentijdse resultaten houden we bij in lijsten", 
      "", 
      "__5 Visualisatie en interpretatie__", 
      "", 
      "Met de lijsten van deze tussentijdse resultaten kunnen we nu de resultaten visualiseren en interpreteren."
     ]
    }, 
    {
     "cell_type": "markdown", 
     "source": [
      "***", 
      "## Code"
     ]
    }, 
    {
     "cell_type": "markdown", 
     "source": [
      "### Benodigdheden", 
      "Eerst importeren we de benodigde bibliotheken:"
     ]
    }, 
    {
     "cell_type": "code", 
     "collapsed": true, 
     "input": [
      "import matplotlib.pyplot as plt", 
      "import numpy", 
      "import math"
     ], 
     "language": "python", 
     "outputs": [], 
     "prompt_number": 339
    }, 
    {
     "cell_type": "markdown", 
     "source": [
      "We defini\u00ebren ook de gravitatieconstante"
     ]
    }, 
    {
     "cell_type": "code", 
     "collapsed": true, 
     "input": [
      "G_const = 6.67408e-11 #m3 kg-1 s-2"
     ], 
     "language": "python", 
     "outputs": [], 
     "prompt_number": 340
    }, 
    {
     "cell_type": "markdown", 
     "source": [
      "### Hemellichamen", 
      "", 
      "We maken een aparte klasse van objecten aan die alle eigenschappen van een hemellichaam bevat:", 
      "", 
      "-  de locatie: x, y en z (in m)", 
      "-  de snelheid in de x, y en z richting (in m/s)", 
      "-  een versnelling, die bij de start gelijk is aan 0 m/s$^2$", 
      "-  de massa (in kg)", 
      "-  de naam"
     ]
    }, 
    {
     "cell_type": "code", 
     "collapsed": false, 
     "input": [
      "class hemellichaam:", 
      "    def __init__(self, x, y, z, v_x, v_y, v_z, massa, naam, a_x=0, a_y=0, a_z=0):", 
      "        self.x = x", 
      "        self.y = y", 
      "        self.z = z", 
      "        self.v_x = v_x", 
      "        self.v_y = v_y", 
      "        self.v_z = v_z", 
      "        self.a_x = a_x", 
      "        self.a_y = a_y", 
      "        self.a_z = a_z", 
      "        self.massa = massa", 
      "        self.naam = naam"
     ], 
     "language": "python", 
     "outputs": [], 
     "prompt_number": 341
    }, 
    {
     "cell_type": "markdown", 
     "source": [
      "Hieronder zetten we de startparameters van alle objecten. Hierbij zetten we alle hemellichamen op 1 rij (in de y-richting, dus x=0 en z =0) met een snelheid in de positieve x-richting.", 
      "", 
      "De zon staat stil in het centrum."
     ]
    }, 
    {
     "cell_type": "code", 
     "collapsed": false, 
     "input": [
      "zon=hemellichaam(x=0, y=0, z=0, v_x=0, v_y=0, v_z=0, massa=2e30, naam=\"zon\")", 
      "mercurius=hemellichaam(x=0, y=5.7e10, z=0, v_x=47000, v_y=0, v_z=0, massa=3.285e23,naam=\"mercurius\")", 
      "venus=hemellichaam(x=0, y=1e11, z=0, v_x=35000, v_y=0, v_z=0, massa=4.8e24,naam=\"venus\")", 
      "aarde=hemellichaam(x=0, y=1.5e11, z=0, v_x=30000, v_y=0, v_z=0, massa=6e24,naam=\"aarde\")", 
      "mars=hemellichaam(x=0, y=2.2e11, z=0, v_x=24000, v_y=0, v_z=0, massa=2.4e24,naam=\"mars\")", 
      "jupiter=hemellichaam(x=0, y=7.7e11, z=0, v_x=13000, v_y=0, v_z=0, massa=1e28,naam=\"jupiter\")", 
      "saturnus=hemellichaam(x=0, y=1.4e12, z=0, v_x=9000, v_y=0, v_z=0, massa=5.7e26,naam=\"saturnus\")", 
      "neptunus= hemellichaam(x=0, y=4.5e12, z=0, v_x=5480, v_y=0, v_z=0, massa=1e26,naam=\"neptunus\")", 
      "pluto = hemellichaam(x=0, y=3.7e12, z=0, v_x=4750, v_y=0, v_z=0, massa=1.3e22,naam=\"pluto\")"
     ], 
     "language": "python", 
     "outputs": [], 
     "prompt_number": 342
    }, 
    {
     "cell_type": "markdown", 
     "source": [
      "Als we nu bijvoorbeeld de locatie van de zon en de aarde willen uitprinten, voeren we volgend commando uit:"
     ]
    }, 
    {
     "cell_type": "code", 
     "collapsed": false, 
     "input": [
      "print('Locatie zon: ', zon.x,zon.y,zon.z)", 
      "print('Locatie aarde: ',aarde.x,aarde.y,aarde.z)"
     ], 
     "language": "python", 
     "outputs": [], 
     "prompt_number": 343
    }, 
    {
     "cell_type": "markdown", 
     "source": [
      "<font color=red> __Oefening:__ </font>", 
      "Print de snelheidsvector (x,y,z-richting) van mars uit. "
     ]
    }, 
    {
     "cell_type": "code", 
     "collapsed": false, 
     "input": [], 
     "language": "python", 
     "outputs": [], 
     "prompt_number": 343
    }, 
    {
     "cell_type": "markdown", 
     "source": [
      "### Versnelling op een lichaam", 
      "In onderstaande functie berekenen we nu de versnelling op een lichaam, uitgeoefend door verschillende lichamen. ", 
      "", 
      "-  lichaam: het lichaam waarop de versnelling word berekend", 
      "-  door_lichamen: de andere lichamen die door de zwaartekracht een versnelling veroorzaken bij het lichaam", 
      "-  de versnellingsvector wordt gedefinieerd als 0,0,0", 
      "", 
      "-  we bekijken nu de versnelling veroorzaakt door de verschillende lichamen (for door_lichaam in door_lichamen):", 
      "", 
      "De x-component van de versnelling op een lichaam $i$ wordt gegeven door:", 
      "", 
      "$a^x_i=\\Sigma_{j}\\dfrac{G m_{j}}{((x_{i}-x_{j})^2+(y_{i}-y_{j})^2+(z_{i}-z_{j})^2)^{3/2}} (x_{j}-x_{i})$", 
      "", 
      "waarbij we dus sommeren over alle andere objecten $j$. Voor de y- en z-component gebruiken we dezelfde formule, maar vervangen $(x_{j}-x_{i})$ door respectievelijk $(y_{j}-y_{i})$ en $(z_{j}-z_{i})$."
     ]
    }, 
    {
     "cell_type": "code", 
     "collapsed": true, 
     "input": [
      "def bereken_versnelling(lichaam,door_lichamen):", 
      "    ", 
      "    # We zetten eerst de versnelling van het lichaam op 0.", 
      "    lichaam.a_x=0", 
      "    lichaam.a_y=0", 
      "    lichaam.a_z=0", 
      "    ", 
      "    # Ga over alle andere lichamen, gespecifieerd in door_lichamen", 
      "    # (Voor elk door_lichaam in door_lichamen)", 
      "    for door_lichaam in door_lichamen:", 
      "        ", 
      "        # We doen dit niet voor het lichaam zelf", 
      "        if door_lichaam.naam !=lichaam.naam:", 
      "            ", 
      "            # Bereken de afstand tussen de objecten", 
      "            r= math.sqrt((lichaam.x -door_lichaam.x)**2 + (lichaam.y -door_lichaam.y)**2+ (lichaam.z -door_lichaam.z)**2)", 
      "            ", 
      "            # Bereken de versnelling in elke richting", 
      "            lichaam.a_x = lichaam.a_x + (door_lichaam.x -lichaam.x)*G_const * door_lichaam.massa / r**3     ", 
      "            lichaam.a_y = lichaam.a_y + (door_lichaam.y -lichaam.y)*G_const * door_lichaam.massa / r**3", 
      "            lichaam.a_z = lichaam.a_z + (door_lichaam.z -lichaam.z)*G_const * door_lichaam.massa / r**3"
     ], 
     "language": "python", 
     "outputs": [], 
     "prompt_number": 344
    }, 
    {
     "cell_type": "markdown", 
     "source": [
      "Wanneer we nu bijvoorbeeld de versnelling (op dit moment) op aarde berekenen, uitgeoefend door de zon, mercurius, venus en mars, en deze vervolgens uitprinten, krijgen we:"
     ]
    }, 
    {
     "cell_type": "code", 
     "collapsed": false, 
     "input": [
      "bereken_versnelling(aarde,[zon,mercurius,venus,mars])", 
      "print(aarde.a_x, aarde.a_y, aarde.a_z)"
     ], 
     "language": "python", 
     "outputs": [], 
     "prompt_number": 345
    }, 
    {
     "cell_type": "markdown", 
     "source": [
      "<font color=red>__Oefening:__ </font>", 
      "Bereken de versnelling op de zon, uitgeoend door mercurius, venus, aarde en mars. Print deze vervolgens uit."
     ]
    }, 
    {
     "cell_type": "code", 
     "collapsed": false, 
     "input": [], 
     "language": "python", 
     "outputs": [], 
     "prompt_number": 345
    }, 
    {
     "cell_type": "markdown", 
     "source": [
      "### Bereken positie en snelheid", 
      "", 
      "In dit deel implementeren we de berekening van de nieuwe positie en snelheid, na tijd t (in s).", 
      "", 
      "Voor de positie gebruiken we dus:", 
      "", 
      "$x=x_{0}+v^{x}_{0} t+\\dfrac{a^x}{2} t^{2}$", 
      "", 
      "Met $x_{0}$ de begin x-positie, $v^x_0$ de beginsnelheid in de x-richting. ", 
      "", 
      "Hetzelfde geldt in de y- en z- richting."
     ]
    }, 
    {
     "cell_type": "code", 
     "collapsed": false, 
     "input": [
      "def update_positie(lichaam, t = 1):", 
      "        lichaam.x = lichaam.x + lichaam.v_x * t + 0.5 * lichaam.a_x*t*t", 
      "        lichaam.y = lichaam.y + lichaam.v_y * t + 0.5 * lichaam.a_y*t*t", 
      "        lichaam.z = lichaam.z + lichaam.v_z * t + 0.5 * lichaam.a_z*t*t"
     ], 
     "language": "python", 
     "outputs": [], 
     "prompt_number": 346
    }, 
    {
     "cell_type": "markdown", 
     "source": [
      "De snelheid verandert volgens $v^x=v^x_{0}+a^{x}t$ voor de x-coordinaat. Analoog voor de y-coordinaat.", 
      "", 
      "<font color=red>__Oefening:__</font> ", 
      "Vervolledig nu zelf deze functie! Zonder aan te vullen, kunnen we niet verder..."
     ]
    }, 
    {
     "cell_type": "code", 
     "collapsed": false, 
     "input": [
      "def update_snelheid(lichaam, t = 1):", 
      "    lichaam.v_x = lichaam.v_x + lichaam.a_x*t", 
      "    lichaam.v_y = lichaam.v_y + lichaam.a_y*t", 
      "    lichaam.v_z = lichaam.v_z + lichaam.a_z*t"
     ], 
     "language": "python", 
     "outputs": [], 
     "prompt_number": 347
    }, 
    {
     "cell_type": "markdown", 
     "source": [
      "### Voer simulatie uit"
     ]
    }, 
    {
     "cell_type": "markdown", 
     "source": [
      "Welke lichamen nemen we mee in de simulatie?"
     ]
    }, 
    {
     "cell_type": "code", 
     "collapsed": true, 
     "input": [
      "deelnemende_lichamen = [zon, mercurius, venus, aarde, mars]"
     ], 
     "language": "python", 
     "outputs": [], 
     "prompt_number": 348
    }, 
    {
     "cell_type": "markdown", 
     "source": [
      "Welke tijdsintervallen of stapgrootte gebruiken we om telkens onze positie, snelheid en versnelling te updaten?"
     ]
    }, 
    {
     "cell_type": "code", 
     "collapsed": true, 
     "input": [
      "stapgrootte = 100 # in s"
     ], 
     "language": "python", 
     "outputs": [], 
     "prompt_number": 349
    }, 
    {
     "cell_type": "markdown", 
     "source": [
      "Hoelang simuleren we?", 
      "", 
      "Hier nemen we 2 jaar als voorbeeld."
     ]
    }, 
    {
     "cell_type": "code", 
     "collapsed": true, 
     "input": [
      "totale_tijd = 365 * 24 * 3600*2  # in s"
     ], 
     "language": "python", 
     "outputs": [], 
     "prompt_number": 350
    }, 
    {
     "cell_type": "markdown", 
     "source": [
      "Hoeveel stappen hebben we dan nodig?", 
      "", 
      "-  We delen de totale tijd door het tijdsinterval", 
      "-  We nemen het gehele getal net boven dit getal (met int(numpy.ceil))"
     ]
    }, 
    {
     "cell_type": "code", 
     "collapsed": false, 
     "input": [
      "aantal_stappen=totale_tijd/stapgrootte", 
      "aantal_stappen=int(numpy.ceil(aantal_stappen))"
     ], 
     "language": "python", 
     "outputs": [], 
     "prompt_number": 351
    }, 
    {
     "cell_type": "markdown", 
     "source": [
      "We maken lijsten waarin we de posities en snelheden van onze objecten gaan steken op de verschillende tijdstippen. Deze zullen we gebruiken om een figuur te maken."
     ]
    }, 
    {
     "cell_type": "code", 
     "collapsed": false, 
     "input": [
      "lichaam_locaties=dict()", 
      "lichaam_snelheden=dict()", 
      "for lichaam in deelnemende_lichamen:", 
      "    lichaam_locaties[lichaam.naam]={\"x\":[],\"y\":[],\"z\":[],\"t\":[]}", 
      "    lichaam_snelheden[lichaam.naam]={\"v_x\":[],\"v_y\":[],\"v_z\":[]}"
     ], 
     "language": "python", 
     "outputs": [], 
     "prompt_number": 352
    }, 
    {
     "cell_type": "markdown", 
     "source": [
      "Nu is het tijd om de simulatie uit te voeren.", 
      "", 
      "Voor elke stap gaan we voor elk lichaam:", 
      "", 
      "-  de versnelling berekenen", 
      "-  de plaats updaten", 
      "-  de snelheid updaten", 
      "", 
      "Erna gaan we deze informatie opslaan in de hierboven aangemaakte lijsten. We doen dit niet voor elke stap, maar voor elke 1000 stappen. Anders zou deze lijst enorm groot worden, en dit detail hebben we niet nodig."
     ]
    }, 
    {
     "cell_type": "code", 
     "collapsed": false, 
     "input": [
      "for stap in range(1,aantal_stappen):", 
      "    ", 
      "    # Voor elk lichaam in deelnemende lichamen", 
      "    for lichaam in deelnemende_lichamen:", 
      "        ", 
      "        # Bereken de versnelling, update de positie en snelheid", 
      "        bereken_versnelling(lichaam,deelnemende_lichamen)", 
      "        update_positie(lichaam,stapgrootte)", 
      "        update_snelheid(lichaam,stapgrootte)", 
      "        ", 
      "        # Elke 1000 stappen gaan we deze posities en snelheden in de lijst opslaan", 
      "        if stap % 1000 == 0:", 
      "            lichaam_locaties[lichaam.naam]['t'].append((stap*stapgrootte)/(3600*24)) # We slaan de tijd in dagen op i.p.v. seconden", 
      "            lichaam_locaties[lichaam.naam]['x'].append(lichaam.x)", 
      "            lichaam_locaties[lichaam.naam]['y'].append(lichaam.y)", 
      "            lichaam_locaties[lichaam.naam]['z'].append(lichaam.z)", 
      "            lichaam_snelheden[lichaam.naam]['v_x'].append(lichaam.v_x)", 
      "            lichaam_snelheden[lichaam.naam]['v_y'].append(lichaam.v_y)", 
      "            lichaam_snelheden[lichaam.naam]['v_z'].append(lichaam.v_z)           "
     ], 
     "language": "python", 
     "outputs": [], 
     "prompt_number": 353
    }, 
    {
     "cell_type": "markdown", 
     "source": [
      "***", 
      "## Interpretatie", 
      "", 
      "__Planeetbanen__", 
      "", 
      "We kunnen de planeetbanen van alle betrokken planeten nu tonen. ", 
      "", 
      "Hiervoor nemen we alle x-waarden en alle y-waarden van elke planeet.", 
      "Deze zitten in lichaam_locaties[ _naam planeet_ ]['x'] en lichaam_locaties[ _naam planeet_ ]['y']. ", 
      "", 
      "We geven elke planeet ook een specifieke kleur (bvb: 'g' voor aarde, 'r' voor mars).", 
      "", 
      "Tenslotte benoemen we ook de assen."
     ]
    }, 
    {
     "cell_type": "code", 
     "collapsed": false, 
     "input": [
      "plt.plot(lichaam_locaties['zon']['x'], lichaam_locaties['zon']['y'],'yo')", 
      "plt.plot(lichaam_locaties['mercurius']['x'], lichaam_locaties['mercurius']['y'],'b')", 
      "plt.plot(lichaam_locaties['venus']['x'], lichaam_locaties['venus']['y'],'c')", 
      "plt.plot(lichaam_locaties['aarde']['x'], lichaam_locaties['aarde']['y'], 'g')", 
      "plt.plot(lichaam_locaties['mars']['x'], lichaam_locaties['mars']['y'],'r')", 
      "plt.xlabel('x [m]')", 
      "plt.ylabel('y [m]')", 
      "plt.title(\"Planeetbanen\")"
     ], 
     "language": "python", 
     "outputs": [], 
     "prompt_number": 354
    }, 
    {
     "cell_type": "markdown", 
     "source": [
      "__Snelheid Aarde__"
     ]
    }, 
    {
     "cell_type": "markdown", 
     "source": [
      "De snelheden hebben we opgeslagen in lichaam_snelheden[ _naam lichaam_]. We kunnen deze nu ook bekijken. ", 
      "", 
      "Als voorbeeld plotten we de snelheid van de aarde als functie van de tijd. ", 
      "", 
      "We moeten deze snelheid wel eerst berekenen uit de snelheid in de x-,  y- en z- richting. Dit doen we door", 
      "$v=\\sqrt{v_{x}^2+v_{y}^2+v_z^2}$ te berekenen voor elk tijdstip (= elk element in de lijst)."
     ]
    }, 
    {
     "cell_type": "code", 
     "collapsed": false, 
     "input": [
      "v_aarde=[]", 
      "for i in range(0,len(lichaam_snelheden['aarde']['v_x'])):", 
      "    v_aarde.append(math.sqrt(lichaam_snelheden['aarde']['v_x'][i]**2+lichaam_snelheden['aarde']['v_y'][i]**2+lichaam_snelheden['aarde']['v_z'][i]**2))"
     ], 
     "language": "python", 
     "outputs": [], 
     "prompt_number": 355
    }, 
    {
     "cell_type": "code", 
     "collapsed": false, 
     "input": [
      "plt.plot(lichaam_locaties['aarde']['t'],v_aarde)", 
      "plt.xlabel(\"tijd [dagen]\")", 
      "plt.ylabel(\"snelheid [m/s$^2$]\")", 
      "plt.title(\"Snelheid Aarde als functie van de tijd\")"
     ], 
     "language": "python", 
     "outputs": [], 
     "prompt_number": 356
    }, 
    {
     "cell_type": "markdown", 
     "source": [
      "***", 
      "## <font color=red>Oefeningen</font>", 
      "", 
      "### 1. Wat gebeurt wanneer je de zon 5 keer zwaarder maakt?", 
      "", 
      "Hiervoor moet je de massa van de zon, gedefinieerd in het begin van de code, aanpassen, en de simulatie helemaal opnieuw laten lopen. Bekijk dan opnieuw de figuren.", 
      "", 
      "Vergeet achteraf de massa van de zon niet terug op zijn originele massa te zetten (2e30 kg)...", 
      "### 2. Afstand Aarde - Mars", 
      "", 
      "Kan je zelf de Afstand tussen de Aarde en Mars als functie van de tijd tonen?", 
      "", 
      "De formule die je dus nodig hebt (voor elk tijdstip) is:", 
      "", 
      "$\\Delta x (A-M)=\\sqrt{(x_{A}-x_{M})^2+(y_{A}-y_{M})^2+(z_{A}-z_{M})^2}$"
     ]
    }, 
    {
     "cell_type": "code", 
     "collapsed": true, 
     "input": [
      "afst_aarde_mars=[]", 
      "for i in range(0,len(lichaam_locaties['aarde']['x'])):", 
      "    afst=(lichaam_locaties['aarde']['x'][i]-lichaam_locaties['mars']['x'][i])**2", 
      "    afst=afst+(lichaam_locaties['aarde']['y'][i]-lichaam_locaties['mars']['y'][i])**2", 
      "    afst=afst+(lichaam_locaties['aarde']['z'][i]-lichaam_locaties['mars']['z'][i])**2", 
      "    afst=math.sqrt(afst)", 
      "    afst_aarde_mars.append(afst)"
     ], 
     "language": "python", 
     "outputs": [], 
     "prompt_number": 357
    }, 
    {
     "cell_type": "code", 
     "collapsed": false, 
     "input": [
      "plt.plot(lichaam_locaties['aarde']['t'],afst_aarde_mars)", 
      "plt.xlabel(\"tijd [dagen]\")", 
      "plt.ylabel(\"afstand aarde - mars [m]\")", 
      "plt.title(\"Afstand aarde mars\")"
     ], 
     "language": "python", 
     "outputs": [], 
     "prompt_number": 361
    }, 
    {
     "cell_type": "markdown", 
     "source": [
      "Na hoeveel dagen (ongeveer) is de afstand tussen de Aarde en Mars het grootst?"
     ]
    }, 
    {
     "cell_type": "markdown", 
     "source": [
      "### 3. Extra hemellichaam", 
      "", 
      "Stel dat we een extra object defini\u00ebren, met:", 
      "", 
      "-  massa 500 kg ", 
      "-  startsnelheid v$_x$=33000 m/s$^2$, v$_y$=0 m/s$^2$, v_{z}=0 m/s$^2$ ", 
      "-  startpositie: aan de tegenovergestelde kant van de zon als de Aarde, maar op dezelfde afstand (dus x= 0 m, y= -1.5e11 m, z=0 m)", 
      "-  naam: \"spaceman\"", 
      "", 
      "Kan je dit mee in de simulatie steken en het pad van dit hemellichaam bekijken? "
     ]
    }, 
    {
     "cell_type": "markdown", 
     "source": [
      "### 4. Vergroot de stapgrootte", 
      "", 
      "Wat gebeurt er wanneer je de stapgrootte van de simulatie 100 keer vergroot?"
     ]
    }
   ]
  }
 ]
}